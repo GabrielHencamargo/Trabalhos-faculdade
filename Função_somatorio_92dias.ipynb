{
 "cells": [
  {
   "cell_type": "code",
   "execution_count": 14,
   "id": "9d63141c",
   "metadata": {},
   "outputs": [],
   "source": [
    "import numpy as np\n",
    "import pandas as pd\n",
    "from math import trunc,radians,sin,cos,sqrt,atan2\n"
   ]
  },
  {
   "cell_type": "code",
   "execution_count": 2,
   "id": "95d5c67b",
   "metadata": {},
   "outputs": [],
   "source": [
    "############## Calculo de distancias####################\n",
    "def distancia_lat_long_km(filial,pedido): # algoritmo de calculo da distancia feito pela Myllene\n",
    "    # converte graus em radianos\n",
    "    lat1, lon1, lat2, lon2 = map(radians, [filial[0], filial[1], pedido[0], pedido[1]])\n",
    "    \n",
    "    # raio da Terra em km\n",
    "    R = 6371\n",
    "    \n",
    "    # diferença de latitude e longitude\n",
    "    dlat = lat2 - lat1\n",
    "    dlon = lon2 - lon1\n",
    "    \n",
    "    # fórmula Haversine\n",
    "    a = sin(dlat/2)**2 + cos(lat1)*cos(lat2)*sin(dlon/2)**2\n",
    "    c = 2*atan2(sqrt(a), sqrt(1-a))\n",
    "    distancia = R*c\n",
    "    \n",
    "    return distancia"
   ]
  },
  {
   "cell_type": "code",
   "execution_count": 23,
   "id": "f867d9c8",
   "metadata": {},
   "outputs": [],
   "source": [
    "########## Função generica de calculo da distancia total do dia #########\n",
    "\n",
    "def calcular(filiais,clientes):\n",
    "    atribuicao = {}\n",
    "    for item in range(len(filiais)):\n",
    "        atribuicao[item] = []\n",
    "    somatorio = []\n",
    "    for pedido in clientes :\n",
    "        distancia_min = 100000  # distancia iniciada em um valor alto, para garantir a troca no primeiro loop\n",
    "        i = -1 #variavel gambiarra pra achar o index do array numpy\n",
    "        for filial in filiais:\n",
    "            dist = distancia_lat_long_km(filial,pedido)\n",
    "            dist += distancia_lat_long_km(df_armazens[0],filial) # acrescenta a distancia da filial ao armazem\n",
    "            i += 1\n",
    "            if(dist < distancia_min): # troca somente se a distancia total for menor que a anterior\n",
    "                distancia_min = dist\n",
    "                salva_filial = i            \n",
    "        atribuicao[salva_filial].append(pedido)\n",
    "        somatorio.append(distancia_min)\n",
    "    resultado = 0\n",
    "    for i in somatorio:\n",
    "        resultado += i\n",
    "    return atribuicao,resultado        \n",
    "    "
   ]
  },
  {
   "cell_type": "code",
   "execution_count": 4,
   "id": "32c09b6f",
   "metadata": {},
   "outputs": [],
   "source": [
    "df = pd.read_excel('C:/Users/Gabri/Documents/database.xlsx')"
   ]
  },
  {
   "cell_type": "code",
   "execution_count": 5,
   "id": "2446ce1c",
   "metadata": {},
   "outputs": [
    {
     "name": "stdout",
     "output_type": "stream",
     "text": [
      "<class 'pandas._libs.tslibs.timestamps.Timestamp'>\n"
     ]
    }
   ],
   "source": [
    "############## Inputs#######################\n",
    "\n",
    "df_datas = df[['DATA_PED']].copy()\n",
    "df_datas.head(5)\n",
    "print(type(df_datas.DATA_PED[0]))"
   ]
  },
  {
   "cell_type": "code",
   "execution_count": 7,
   "id": "d2d19bdf",
   "metadata": {},
   "outputs": [],
   "source": [
    "df_filiais = pd.read_excel('C:/Users/gabri/OneDrive/Documentos/Martins/filiais.xlsx')"
   ]
  },
  {
   "cell_type": "code",
   "execution_count": 8,
   "id": "edb44408",
   "metadata": {},
   "outputs": [],
   "source": [
    "df_armazens = pd.read_excel('C:/Users/gabri/OneDrive/Documentos/Martins/armazens.xlsx')"
   ]
  },
  {
   "cell_type": "code",
   "execution_count": 9,
   "id": "19f4c278",
   "metadata": {},
   "outputs": [],
   "source": [
    "df_clientes = df[['VLRLNTCLI_VND','VLRLTTCLI_VND']].copy()"
   ]
  },
  {
   "cell_type": "code",
   "execution_count": 10,
   "id": "ed979611",
   "metadata": {},
   "outputs": [],
   "source": [
    "df_clientes = df_clientes.values\n",
    "df_armazens = df_armazens.values\n",
    "df_filiais = df_filiais.values\n"
   ]
  },
  {
   "cell_type": "code",
   "execution_count": 11,
   "id": "04e35381",
   "metadata": {},
   "outputs": [
    {
     "name": "stdout",
     "output_type": "stream",
     "text": [
      "[[-38.324 -12.698]]\n",
      "[[-39.5463 -18.0776]\n",
      " [-39.5463 -18.0776]\n",
      " [-39.5463 -18.0776]\n",
      " ...\n",
      " [-39.0093 -10.506 ]\n",
      " [-39.0093 -10.506 ]\n",
      " [-38.7539  -8.8461]]\n",
      "[[-38.238       -9.4048    ]\n",
      " [-40.1808     -10.4658    ]\n",
      " [-40.8393     -14.8496    ]\n",
      " [-39.1642     -14.4716    ]\n",
      " [-42.7676476  -14.21233244]\n",
      " [-44.99       -12.153     ]\n",
      " [-38.324      -12.698     ]\n",
      " [-40.307      -12.528     ]\n",
      " [-38.5126     -12.9706    ]\n",
      " [-41.8568     -11.2999    ]]\n"
     ]
    }
   ],
   "source": [
    "print(df_armazens)\n",
    "print(df_clientes)\n",
    "print(df_filiais)"
   ]
  },
  {
   "cell_type": "code",
   "execution_count": 24,
   "id": "ed3a632f",
   "metadata": {},
   "outputs": [],
   "source": [
    "j = 0\n",
    "final = []\n",
    "pedidos_por_filiais = []\n",
    "fim_do_dia = 0\n",
    "for _ in range(92):\n",
    "    Clientes_dia = []\n",
    "    for data in df_datas.DATA_PED[j:]:\n",
    "        Clientes_dia.append(df_clientes[j])\n",
    "        if(j == len(df_clientes)-1):\n",
    "            j += 1\n",
    "            break\n",
    "        if(data != df_datas.DATA_PED[j+1]):\n",
    "            #Clientes_dia = df_clientes[fim_do_dia:(j+1)] # se necessario usar fatiamento arrumar essa linha\n",
    "            j += 1\n",
    "            fim_do_dia = j\n",
    "            break\n",
    "        j += 1\n",
    "    pedido_filial , soma = calcular(df_filiais,Clientes_dia)\n",
    "    final.append(trunc(soma))\n",
    "    pedidos_por_filiais.append(pedido_filial)\n"
   ]
  },
  {
   "cell_type": "code",
   "execution_count": 25,
   "id": "c07c4dc8",
   "metadata": {},
   "outputs": [
    {
     "name": "stdout",
     "output_type": "stream",
     "text": [
      "[460910, 130066, 459594, 360160, 231496, 27404, 530860, 607091, 606941, 535495, 397890, 215845, 17232, 462711, 186472, 489660, 508144, 417037, 308587, 37099, 489247, 554399, 485134, 387202, 398865, 243909, 39487, 399333, 457738, 504554, 446603, 306141, 202887, 24523, 394602, 526541, 538682, 490502, 344140, 213345, 26728, 481231, 531201, 509796, 511202, 404870, 168470, 24487, 417494, 454406, 444370, 368704, 296277, 135151, 17736, 353888, 424605, 411966, 381309, 258125, 129430, 13661, 373763, 492930, 527739, 481524, 427964, 240153, 23161, 477957, 563878, 564788, 504898, 381411, 217014, 21712, 435161, 509553, 470336, 434413, 306611, 197946, 16948, 423126, 486692, 471647, 502191, 334699, 189794, 25773, 436996, 15739]\n",
      "\n",
      "92\n"
     ]
    }
   ],
   "source": [
    "print(final)\n",
    "print()\n",
    "print(len(final))"
   ]
  },
  {
   "cell_type": "code",
   "execution_count": 31,
   "id": "2f78b518",
   "metadata": {},
   "outputs": [
    {
     "name": "stdout",
     "output_type": "stream",
     "text": [
      "SMSE = 176032.6 km\n"
     ]
    }
   ],
   "source": [
    "res = np.array(final)\n",
    "fit = np.sqrt(np.mean((res - np.mean(res))**2))\n",
    "print(f\"SMSE = {fit:.1f} km\")"
   ]
  },
  {
   "cell_type": "code",
   "execution_count": null,
   "id": "994d3b2e",
   "metadata": {},
   "outputs": [],
   "source": []
  }
 ],
 "metadata": {
  "kernelspec": {
   "display_name": "Python 3 (ipykernel)",
   "language": "python",
   "name": "python3"
  },
  "language_info": {
   "codemirror_mode": {
    "name": "ipython",
    "version": 3
   },
   "file_extension": ".py",
   "mimetype": "text/x-python",
   "name": "python",
   "nbconvert_exporter": "python",
   "pygments_lexer": "ipython3",
   "version": "3.11.4"
  }
 },
 "nbformat": 4,
 "nbformat_minor": 5
}
