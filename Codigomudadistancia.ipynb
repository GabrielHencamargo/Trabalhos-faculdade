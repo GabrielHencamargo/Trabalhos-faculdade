{
 "cells": [
  {
   "cell_type": "code",
   "execution_count": 1,
   "id": "9e94e4c0",
   "metadata": {},
   "outputs": [
    {
     "name": "stdout",
     "output_type": "stream",
     "text": [
      "((-12.9706, -38.5126), (-14.8496, -40.8393), (-12.698, -38.324), (-14.4716, -39.1642), (-12.153, -44.99), (-16.378, -39.58), (-9.4048, -38.238), (-14.2123, -42.7676), (-11.2999, -41.8568), (-10.4658, -40.1808), (-12.528, -40.307))\n",
      "{(-12.9706, -38.5126): 0, (-14.8496, -40.8393): 1, (-12.698, -38.324): 2, (-14.4716, -39.1642): 3, (-12.153, -44.99): 4, (-16.378, -39.58): 5, (-9.4048, -38.238): 6, (-14.2123, -42.7676): 7, (-11.2999, -41.8568): 8, (-10.4658, -40.1808): 9, (-12.528, -40.307): 10}\n",
      "{1: array([[-12.9706, -38.5126],\n",
      "       [-14.8496, -40.8393],\n",
      "       [-12.698 , -38.324 ],\n",
      "       [-14.4716, -39.1642],\n",
      "       [-12.153 , -44.99  ],\n",
      "       [-16.378 , -39.58  ],\n",
      "       [ -9.4048, -38.238 ],\n",
      "       [-14.2123, -42.7676],\n",
      "       [-11.2999, -41.8568],\n",
      "       [-10.4658, -40.1808],\n",
      "       [-12.528 , -40.307 ]])}\n"
     ]
    },
    {
     "data": {
      "text/plain": [
       "1"
      ]
     },
     "execution_count": 1,
     "metadata": {},
     "output_type": "execute_result"
    }
   ],
   "source": [
    "import itertools\n",
    "import numpy as np\n",
    "import pandas as pd\n",
    "from math import trunc,radians,sin,cos,sqrt,atan2\n",
    "from datetime import datetime\n",
    "import time\n",
    "import folium\n",
    "from folium import plugins\n",
    "\n",
    "############## Inputs#######################\n",
    "\n",
    "df = pd.read_excel('C:/Users/Gabri/OneDrive/Documentos/Martins/sub_set_df.xlsx') #database deve estar filtrado por data do mais ao antigo ao mais novo\n",
    "df_armazens = [[-12.9706, -38.5126]]\n",
    "df_clientes = df[['VLRLTTCLI_VND','VLRLNTCLI_VND']].to_numpy().copy()\n",
    "df_datas = df[['DATA_PED']].copy()\n",
    "df_filiais_b = pd.read_excel('C:/Users/Gabri/OneDrive/Documentos/Martins/TABELA_FILIAIS_11_ATUAIS.xlsx')\n",
    "df_filiais = df_filiais_b[['VLRLTTMNCCANFIL', 'VLRLNTMNCCANFIL']].to_numpy().copy()\n",
    "nome_coordenada = {}\n",
    "indice_nome = {}\n",
    "#print(df_filiais_b['NOMCID'][0])\n",
    "\n",
    "\n",
    "n = 11 #numero de filiais por combinacao\n",
    "\n",
    "\n",
    "\n",
    "#associaçao entre nome e coordenada\n",
    "def totuple(array):\n",
    "    try:\n",
    "        return tuple(totuple(i) for i in array)\n",
    "    except TypeError:\n",
    "        return array\n",
    "\n",
    "hash_array = totuple(df_filiais)\n",
    "print(hash_array)\n",
    "for indice in range(len(df_filiais)):\n",
    "    indice_nome[hash_array[indice]] = indice\n",
    "    nome_coordenada[df_filiais_b['NOMCID'][indice]] = df_filiais[indice]\n",
    "print(indice_nome)\n",
    "#print(nome_coordenada)\n",
    "#fim da associaçao\n",
    "combinacoes = list(itertools.combinations(df_filiais, n))\n",
    "#print(combinacoes)\n",
    "combinacoes = np.array(combinacoes)\n",
    "\n",
    "dicionario_combinacoes = {}\n",
    "for idx, combinacao in enumerate(combinacoes):\n",
    "    dicionario_combinacoes[idx + 1] = combinacao\n",
    "\n",
    "print(dicionario_combinacoes)\n",
    "len(dicionario_combinacoes)\n"
   ]
  },
  {
   "cell_type": "code",
   "execution_count": 2,
   "id": "4ecb1032",
   "metadata": {},
   "outputs": [],
   "source": [
    "\n",
    "############## Calculo de distancias####################\n",
    "def distancia_lat_long_km(filial,pedido): # algoritmo de calculo da distancia feito pela Myllene\n",
    "    # converte graus em radianos\n",
    "    lat1, lon1, lat2, lon2 = map(radians, [filial[0], filial[1], pedido[0], pedido[1]])\n",
    "    \n",
    "    # raio da Terra em km\n",
    "    R = 6371\n",
    "    \n",
    "    # diferença de latitude e longitude\n",
    "    dlat = lat2 - lat1\n",
    "    dlon = lon2 - lon1\n",
    "    \n",
    "    # fórmula Haversine\n",
    "    a = sin(dlat/2)**2 + cos(lat1)*cos(lat2)*sin(dlon/2)**2\n",
    "    c = 2*atan2(sqrt(a), sqrt(1-a))\n",
    "    distancia = R*c\n",
    "    \n",
    "    return distancia\n",
    "\n",
    "\n",
    "\n",
    "\n"
   ]
  },
  {
   "cell_type": "code",
   "execution_count": 3,
   "id": "74c418d4",
   "metadata": {},
   "outputs": [
    {
     "name": "stdout",
     "output_type": "stream",
     "text": [
      "11\n"
     ]
    }
   ],
   "source": [
    "print(len(df_filiais))"
   ]
  },
  {
   "cell_type": "code",
   "execution_count": 4,
   "id": "f78a9bdd",
   "metadata": {},
   "outputs": [],
   "source": [
    "########## Função generica de calculo da distancia total do dia #########\n",
    "\n",
    "def calcular(filiais,clientes):\n",
    "    atribuicao = {}\n",
    "    #print(f\"os clientes sao: {clientes}\")\n",
    "    #print()\n",
    "    for item in df_filiais:\n",
    "        hash_item = totuple(item)\n",
    "        atribuicao[hash_item] = []\n",
    "    somatorio = []\n",
    "    #print(atribuicao)\n",
    "    for pedido in clientes :\n",
    "        distancia_min = 100000  # distancia iniciada em um valor alto, para garantir a troca no primeiro loop\n",
    "        i = -1 #variavel gambiarra pra achar o index do array numpy\n",
    "        for filial in filiais:          \n",
    "            dist = distancia_lat_long_km(filial,pedido)\n",
    "            #dist += distancia_lat_long_km(df_armazens[0],filial) # acrescenta a distancia da filial ao armazem\n",
    "            i += 1\n",
    "            if(dist < distancia_min): # troca somente se a distancia total for menor que a anterior\n",
    "                distancia_min = dist\n",
    "                hash_fil = totuple(filial)\n",
    "            #print(f\"O pedido {pedido} escolheu a filial =={salva_filial}\")\n",
    "        atribuicao[hash_fil].append(pedido)\n",
    "        somatorio.append(distancia_min)\n",
    "    houve_pedido = {}\n",
    "    for i in filiais:\n",
    "      hi = totuple(i)\n",
    "      if(atribuicao[hi] != 0):\n",
    "            houve_pedido[hi]= True\n",
    "    #print(houve_pedido)\n",
    "    #print(f\"O valor antes dos armazens é: {sum(somatorio)}\")\n",
    "    for filial, escolha in houve_pedido.items(): \n",
    "        if(escolha):\n",
    "            somatorio.append(distancia_lat_long_km(df_armazens[0],filial))\n",
    "            \n",
    "    resultado = sum(somatorio)\n",
    "    return atribuicao,resultado"
   ]
  },
  {
   "cell_type": "code",
   "execution_count": null,
   "id": "22881f82",
   "metadata": {},
   "outputs": [],
   "source": []
  },
  {
   "cell_type": "code",
   "execution_count": 5,
   "id": "9d63141c",
   "metadata": {},
   "outputs": [
    {
     "name": "stdout",
     "output_type": "stream",
     "text": [
      "A quantidade de combinações é 1\n",
      "\n",
      "Essas foram escolhidas : 11 a 11 de um total de 11\n",
      "\n",
      "A melhor combinação foi SMSE = 48909 na combinação número  1\n",
      "\n",
      "As filiais escolhidas foram : ['SALVADOR', 'VITOR DA CONQUISTA', 'CAMACARI', 'ITABUNA', 'BARREIRAS', 'EUNAPOLIS', 'PAULO AFONSO', 'GUANAMBI', 'IRECE', 'SENHOR DO BONFIM', 'ITABERABA']\n",
      "\n",
      "A filial SALVADOR entregou : 17180 pedidos ao todo \n",
      "\n",
      "A filial VITOR DA CONQUISTA entregou : 7575 pedidos ao todo \n",
      "\n",
      "A filial CAMACARI entregou : 13167 pedidos ao todo \n",
      "\n",
      "A filial ITABUNA entregou : 8206 pedidos ao todo \n",
      "\n",
      "A filial BARREIRAS entregou : 7419 pedidos ao todo \n",
      "\n",
      "A filial EUNAPOLIS entregou : 8554 pedidos ao todo \n",
      "\n",
      "A filial PAULO AFONSO entregou : 5500 pedidos ao todo \n",
      "\n",
      "A filial GUANAMBI entregou : 9197 pedidos ao todo \n",
      "\n",
      "A filial IRECE entregou : 12907 pedidos ao todo \n",
      "\n",
      "A filial SENHOR DO BONFIM entregou : 12348 pedidos ao todo \n",
      "\n",
      "A filial ITABERABA entregou : 10406 pedidos ao todo \n",
      "\n",
      "\n",
      "Tempo de execução: 5.522187232971191\n"
     ]
    }
   ],
   "source": [
    "if __name__ == '__main__':    \n",
    "    inicio = time.time()\n",
    "    Best = 0\n",
    "    Var = {}\n",
    "    Plot = {}\n",
    "    for chave,_ in dicionario_combinacoes.items():\n",
    "        Plot[chave] = []\n",
    "    contagem_combinacoes = 0\n",
    "    for chave, combinacao in dicionario_combinacoes.items():\n",
    "        #print(f'Combinação {chave}: {combinacao}')\n",
    "        filiais_df = combinacao\n",
    "        #print(df_armazens)\n",
    "        #print(df_clientes)\n",
    "        ###########definições da funçao de 92 dias\n",
    "        final = []\n",
    "        #print(final)\n",
    "        j = 0\n",
    "##############################função 92 dias        \n",
    "        for dia in range(92):\n",
    "            Clientes_dia = []\n",
    "            for data in df_datas.DATA_PED[j:]:\n",
    "                Clientes_dia.append(df_clientes[j])\n",
    "                if(j == len(df_clientes)-1):\n",
    "                    j += 1\n",
    "                    break\n",
    "                if(data != df_datas.DATA_PED[j+1]):\n",
    "                    j += 1\n",
    "                    break\n",
    "                j += 1\n",
    "            #print(f\"Dia {dia} = {len(Clientes_dia)} pedidos\")\n",
    "            pedido_filial , soma = calcular(filiais_df,Clientes_dia)\n",
    "            Plot[chave].append(pedido_filial)\n",
    "            final.append(trunc(soma))\n",
    "        \n",
    "################################fim da função\n",
    "###############condição da funçao de combinações\n",
    "        #if(contagem_combinacoes == len(combinacao)-1):\n",
    "           # contagem_combinacoes += 1\n",
    "           # break\n",
    "        contagem_combinacoes +=1\n",
    "##########################################fim das condições###\n",
    "        #print()\n",
    "        #print('O Vetor de distâncias é', final)\n",
    "        #print()\n",
    "        #print(len(final), 'dias')\n",
    "#####################calculos de metricas\n",
    "        #Plot[chave].append( pedido_filial)\n",
    "        #print(Plot[chave][0])\n",
    "        res = np.array(final)\n",
    "        fit = np.sqrt(np.mean((res - np.mean(res))**2))\n",
    "        #print(f\"SMSE = {fit:.1f} km\")\n",
    "        #print()\n",
    "        Var[chave] = trunc(fit)\n",
    "        km_rodado = sum(final)\n",
    "        #print(\"Total de KM rodado foi de:\", km_rodado)\n",
    "        #print()\n",
    "    best = min(Var.values())\n",
    "    print('A quantidade de combinações é', contagem_combinacoes)\n",
    "    print()\n",
    "    print(f'Essas foram escolhidas : {n} a {n} de um total de {len(df_filiais)}')\n",
    "    combinacao_escolhida = list(Var.keys())[list(Var.values()).index(best)]\n",
    "    print()\n",
    "    print(f\"A melhor combinação foi SMSE = {best} na combinação número \" , combinacao_escolhida)\n",
    "    filiais_escolhidas = []\n",
    "    _pedidos = Plot[combinacao_escolhida]\n",
    "    pedidos_por_filial = {}\n",
    "    #print(_pedidos[0])\n",
    "    for l in indice_nome.values():\n",
    "        pedidos_por_filial[l]= []\n",
    "    indice_escolhidos= []\n",
    "    #print(pedidos_por_filial)\n",
    "    #print(_pedidos[10][9])\n",
    "    \n",
    "    for filial in dicionario_combinacoes[combinacao_escolhida]:\n",
    "        hash_filial = totuple(filial)\n",
    "        idc = indice_nome[hash_filial]\n",
    "        indice_escolhidos.append(idc)\n",
    "        for dia in range(92):\n",
    "            pedidos_por_filial[idc].append(len(_pedidos[dia][hash_filial])) \n",
    "        nome_da_filial = list(nome_coordenada.keys())[idc]\n",
    "        #filiais_escolhidas[idc] = nome_da_filial\n",
    "        filiais_escolhidas.append(nome_da_filial)\n",
    "    print()\n",
    "    print(f\"As filiais escolhidas foram :\", filiais_escolhidas)\n",
    "    print()\n",
    "    contador = 0\n",
    "    for i in indice_escolhidos :\n",
    "        print(f\"A filial {filiais_escolhidas[contador]} entregou : {sum(pedidos_por_filial[i])} pedidos ao todo \\n\")\n",
    "        contador += 1\n",
    "        if contador >= len(filiais_escolhidas):\n",
    "            break\n",
    "###### tratamento dos pedidos filiais\n",
    "####fim do tratamento pedidos filiais\n",
    "####################fim dos calculos de metricas\n",
    "    fim = time.time()\n",
    "    print()\n",
    "    print(\"Tempo de execução: %s\"%(fim - inicio))"
   ]
  },
  {
   "cell_type": "code",
   "execution_count": 6,
   "id": "d5d38786",
   "metadata": {},
   "outputs": [
    {
     "name": "stdout",
     "output_type": "stream",
     "text": [
      "[[-12.9706 -38.5126]\n",
      " [-14.8496 -40.8393]\n",
      " [-12.698  -38.324 ]\n",
      " [-14.4716 -39.1642]\n",
      " [-12.153  -44.99  ]\n",
      " [-16.378  -39.58  ]\n",
      " [ -9.4048 -38.238 ]\n",
      " [-14.2123 -42.7676]\n",
      " [-11.2999 -41.8568]\n",
      " [-10.4658 -40.1808]\n",
      " [-12.528  -40.307 ]]\n"
     ]
    }
   ],
   "source": [
    "filiais_escolhidas = dicionario_combinacoes[combinacao_escolhida]\n",
    "print(filiais_escolhidas)"
   ]
  },
  {
   "cell_type": "code",
   "execution_count": null,
   "id": "1860de52",
   "metadata": {},
   "outputs": [],
   "source": []
  },
  {
   "cell_type": "code",
   "execution_count": 75,
   "id": "27ae0ad4",
   "metadata": {},
   "outputs": [],
   "source": [
    "def calcularP(filiais,clientes):\n",
    "    Distancia_arm_fil = []\n",
    "    DISTANCIA_ARM_FILIAL = []\n",
    "    for pedido in clientes :\n",
    "        distancia_min = 100000  # distancia iniciada em um valor alto, para garantir a troca no primeiro loop\n",
    "        i = -1 #variavel gambiarra pra achar o index do array numpy\n",
    "        for filial in filiais:          \n",
    "            dist = distancia_lat_long_km(filial,pedido)\n",
    "            dist_arm = distancia_lat_long_km(df_armazens[0],filial) # acrescenta a distancia da filial ao armazem\n",
    "            i += 1\n",
    "            if(dist < distancia_min): # troca somente se a distancia total for menor que a anterior\n",
    "                distancia_min = dist\n",
    "                distancia_min_arm = dist_arm\n",
    "                hash_fil = totuple(filial)\n",
    "            #print(f\"O pedido {pedido} escolheu a filial =={salva_filial}\")\n",
    "        Distancia_arm_fil.append(distancia_min)\n",
    "        DISTANCIA_ARM_FILIAL.append(distancia_min_arm)\n",
    "    return Distancia_arm_fil, DISTANCIA_ARM_FILIAL"
   ]
  },
  {
   "cell_type": "code",
   "execution_count": 76,
   "id": "b3d3042f",
   "metadata": {},
   "outputs": [],
   "source": [
    "\n",
    "Pedidos_dia = {}\n",
    "Pedidos_dia[\"DISTANCIA_FILIAL_CLIENTE\"] = []\n",
    "Pedidos_dia[\"DISTANCIA_ARM_FILIAL\"] = []\n",
    "#Pedidos_dia.append(\"DISTANCIA_FILIAL_CLIENTE\")\n",
    "j = 0\n",
    "for dia in range(92):\n",
    "    Clientes_dia = []\n",
    "    for data in df_datas.DATA_PED[j:]:\n",
    "        Clientes_dia.append(df_clientes[j])\n",
    "        if(j == len(df_clientes)-1):\n",
    "            j += 1\n",
    "            break\n",
    "        if(data != df_datas.DATA_PED[j+1]):\n",
    "            j += 1\n",
    "            break\n",
    "        j += 1\n",
    "    #print(f\"Dia {dia} = {len(Clientes_dia)} pedidos\")\n",
    "    pedido_filial, arm_filial = calcularP(filiais_escolhidas,Clientes_dia)\n",
    "    Pedidos_dia[\"DISTANCIA_FILIAL_CLIENTE\"].extend(pedido_filial)\n",
    "    Pedidos_dia[\"DISTANCIA_ARM_FILIAL\"].extend(arm_filial)"
   ]
  },
  {
   "cell_type": "code",
   "execution_count": 80,
   "id": "98f5e14d",
   "metadata": {},
   "outputs": [
    {
     "name": "stdout",
     "output_type": "stream",
     "text": [
      "2\n"
     ]
    },
    {
     "data": {
      "text/html": [
       "<div>\n",
       "<style scoped>\n",
       "    .dataframe tbody tr th:only-of-type {\n",
       "        vertical-align: middle;\n",
       "    }\n",
       "\n",
       "    .dataframe tbody tr th {\n",
       "        vertical-align: top;\n",
       "    }\n",
       "\n",
       "    .dataframe thead th {\n",
       "        text-align: right;\n",
       "    }\n",
       "</style>\n",
       "<table border=\"1\" class=\"dataframe\">\n",
       "  <thead>\n",
       "    <tr style=\"text-align: right;\">\n",
       "      <th></th>\n",
       "      <th>DISTANCIA_FILIAL_CLIENTE</th>\n",
       "    </tr>\n",
       "  </thead>\n",
       "  <tbody>\n",
       "    <tr>\n",
       "      <th>0</th>\n",
       "      <td>189.020783</td>\n",
       "    </tr>\n",
       "    <tr>\n",
       "      <th>1</th>\n",
       "      <td>189.020783</td>\n",
       "    </tr>\n",
       "    <tr>\n",
       "      <th>2</th>\n",
       "      <td>189.020783</td>\n",
       "    </tr>\n",
       "    <tr>\n",
       "      <th>3</th>\n",
       "      <td>185.557340</td>\n",
       "    </tr>\n",
       "    <tr>\n",
       "      <th>4</th>\n",
       "      <td>169.793655</td>\n",
       "    </tr>\n",
       "  </tbody>\n",
       "</table>\n",
       "</div>"
      ],
      "text/plain": [
       "   DISTANCIA_FILIAL_CLIENTE\n",
       "0                189.020783\n",
       "1                189.020783\n",
       "2                189.020783\n",
       "3                185.557340\n",
       "4                169.793655"
      ]
     },
     "execution_count": 80,
     "metadata": {},
     "output_type": "execute_result"
    }
   ],
   "source": [
    "#print(Pedidos_dia)\n",
    "print(len(Pedidos_dia))\n",
    "df_Pedidos = pd.DataFrame(Pedidos_dia[\"DISTANCIA_FILIAL_CLIENTE\"],columns= [\"DISTANCIA_FILIAL_CLIENTE\"] )\n",
    "df_arm_fil = pd.DataFrame(Pedidos_dia[\"DISTANCIA_ARM_FILIAL\"], columns=[\"DISTANCIA_ARM_FILIAL\"])\n",
    "df_Pedidos.head()"
   ]
  },
  {
   "cell_type": "code",
   "execution_count": 81,
   "id": "cb19e7e9",
   "metadata": {},
   "outputs": [
    {
     "data": {
      "text/html": [
       "<div>\n",
       "<style scoped>\n",
       "    .dataframe tbody tr th:only-of-type {\n",
       "        vertical-align: middle;\n",
       "    }\n",
       "\n",
       "    .dataframe tbody tr th {\n",
       "        vertical-align: top;\n",
       "    }\n",
       "\n",
       "    .dataframe thead th {\n",
       "        text-align: right;\n",
       "    }\n",
       "</style>\n",
       "<table border=\"1\" class=\"dataframe\">\n",
       "  <thead>\n",
       "    <tr style=\"text-align: right;\">\n",
       "      <th></th>\n",
       "      <th>DISTANCIA_ARM_FILIAL</th>\n",
       "    </tr>\n",
       "  </thead>\n",
       "  <tbody>\n",
       "    <tr>\n",
       "      <th>0</th>\n",
       "      <td>395.894877</td>\n",
       "    </tr>\n",
       "    <tr>\n",
       "      <th>1</th>\n",
       "      <td>395.894877</td>\n",
       "    </tr>\n",
       "    <tr>\n",
       "      <th>2</th>\n",
       "      <td>395.894877</td>\n",
       "    </tr>\n",
       "    <tr>\n",
       "      <th>3</th>\n",
       "      <td>395.894877</td>\n",
       "    </tr>\n",
       "    <tr>\n",
       "      <th>4</th>\n",
       "      <td>395.894877</td>\n",
       "    </tr>\n",
       "  </tbody>\n",
       "</table>\n",
       "</div>"
      ],
      "text/plain": [
       "   DISTANCIA_ARM_FILIAL\n",
       "0            395.894877\n",
       "1            395.894877\n",
       "2            395.894877\n",
       "3            395.894877\n",
       "4            395.894877"
      ]
     },
     "execution_count": 81,
     "metadata": {},
     "output_type": "execute_result"
    }
   ],
   "source": [
    "df_arm_fil.head()"
   ]
  },
  {
   "cell_type": "code",
   "execution_count": 43,
   "id": "5f5e3353",
   "metadata": {},
   "outputs": [],
   "source": [
    "Path_df = \"C:/Users/gabri/OneDrive/Documentos/Martins/dfs/SUBSET_DF_FINAL.xlsx\""
   ]
  },
  {
   "cell_type": "code",
   "execution_count": 45,
   "id": "189282dd",
   "metadata": {},
   "outputs": [],
   "source": [
    "df_custo = pd.read_excel(Path_df)"
   ]
  },
  {
   "cell_type": "code",
   "execution_count": 82,
   "id": "9fd0e3ad",
   "metadata": {},
   "outputs": [
    {
     "name": "stdout",
     "output_type": "stream",
     "text": [
      "112459\n"
     ]
    }
   ],
   "source": [
    "print(len(df_custo[[\"DISTANCIA_FILIAL_CLIENTE\"]]))\n",
    "df_custo[[\"DISTANCIA_FILIAL_CLIENTE\"]] = df_Pedidos\n",
    "df_custo[[\"DISTANCIA_ARM_FILIAL\"]] = df_arm_fil"
   ]
  },
  {
   "cell_type": "code",
   "execution_count": 83,
   "id": "2f6eefe1",
   "metadata": {},
   "outputs": [],
   "source": [
    "df_custo.to_excel(\"df_custo.xlsx\")"
   ]
  },
  {
   "cell_type": "code",
   "execution_count": null,
   "id": "8280536e",
   "metadata": {},
   "outputs": [],
   "source": []
  }
 ],
 "metadata": {
  "kernelspec": {
   "display_name": "Python 3 (ipykernel)",
   "language": "python",
   "name": "python3"
  },
  "language_info": {
   "codemirror_mode": {
    "name": "ipython",
    "version": 3
   },
   "file_extension": ".py",
   "mimetype": "text/x-python",
   "name": "python",
   "nbconvert_exporter": "python",
   "pygments_lexer": "ipython3",
   "version": "3.11.4"
  }
 },
 "nbformat": 4,
 "nbformat_minor": 5
}
